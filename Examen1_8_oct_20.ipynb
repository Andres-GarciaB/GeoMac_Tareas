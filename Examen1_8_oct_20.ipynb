{
 "cells": [
  {
   "cell_type": "code",
   "execution_count": 3,
   "metadata": {},
   "outputs": [
    {
     "name": "stdout",
     "output_type": "stream",
     "text": [
      "el error absoluto es: 0.00126448926734967770\n",
      "el error relativo es: 0.00040249943477070079\n"
     ]
    }
   ],
   "source": [
    "#Ejercicio de Error absoluto y error relativo\n",
    "import numpy as np\n",
    "Ea1=np.fabs(np.pi-22/7)\n",
    "print(\"el error absoluto es: {:2.20F}\".format(Ea1))\n",
    "Er1=Ea1/np.fabs(np.pi)\n",
    "print (\"el error relativo es: {:2.20F}\".format(Er1))"
   ]
  },
  {
   "cell_type": "code",
   "execution_count": 6,
   "metadata": {},
   "outputs": [
    {
     "name": "stdout",
     "output_type": "stream",
     "text": [
      "22026.465794806703\n",
      "el error absoluto es: 26.46579480670334305614\n",
      "el error relativo es: 0.00120154522533266880\n"
     ]
    }
   ],
   "source": [
    "Ea2=np.fabs(np.e**10-22000)\n",
    "print (np.e**10)\n",
    "print(\"el error absoluto es: {:2.20F}\".format(Ea2))\n",
    "Er2=Ea2/np.fabs(np.e**10)\n",
    "print (\"el error relativo es: {:2.20F}\".format(Er2))"
   ]
  },
  {
   "cell_type": "code",
   "execution_count": 7,
   "metadata": {},
   "outputs": [
    {
     "name": "stdout",
     "output_type": "stream",
     "text": [
      "el error absoluto es: 14.54426863298931493773\n",
      "el error relativo es: 0.01038876330927808282\n"
     ]
    }
   ],
   "source": [
    "Ea3=np.fabs(10**np.pi-1400)\n",
    "\n",
    "print(\"el error absoluto es: {:2.20F}\".format(Ea3))\n",
    "Er3=Ea3/np.fabs(1400)\n",
    "print (\"el error relativo es: {:2.20F}\".format(Er3))"
   ]
  },
  {
   "cell_type": "code",
   "execution_count": 10,
   "metadata": {},
   "outputs": [
    {
     "name": "stdout",
     "output_type": "stream",
     "text": [
      "362880\n",
      "el error absoluto es: 3343.12715805164771154523\n",
      "el error relativo es: 0.00929842642181871390\n"
     ]
    }
   ],
   "source": [
    "import math\n",
    "from math import factorial\n",
    "\n",
    "print (factorial (9))\n",
    "\n",
    "Ea4=np.fabs(factorial(9)-(math.sqrt(18*np.pi)*(9/np.e)**9))\n",
    "\n",
    "print(\"el error absoluto es: {:2.20F}\".format(Ea4))\n",
    "Er4=Ea4/np.fabs((math.sqrt(18*np.pi)*(9/np.e)**9))\n",
    "print (\"el error relativo es: {:2.20F}\".format(Er4))"
   ]
  },
  {
   "cell_type": "code",
   "execution_count": null,
   "metadata": {},
   "outputs": [],
   "source": []
  },
  {
   "cell_type": "code",
   "execution_count": null,
   "metadata": {},
   "outputs": [],
   "source": []
  },
  {
   "cell_type": "code",
   "execution_count": 50,
   "metadata": {},
   "outputs": [
    {
     "name": "stdout",
     "output_type": "stream",
     "text": [
      "-4.0\n",
      "8.5\n",
      "-12.333333333333332\n",
      "13.708333333333336\n",
      "-12.333333333333332\n",
      "9.368055555555557\n",
      "-6.132936507936506\n",
      "3.5551835317460334\n",
      "-1.827105379188711\n",
      "0.8640390762786612\n",
      "-0.3592084034792353\n",
      "0.15047804641988816\n",
      "-0.045555203541313205\n",
      "0.02445667144483013\n",
      "0.0011193797827823496\n",
      "0.00841228342717228\n",
      "0.006267311767057594\n",
      "0.006863137228200562\n",
      "0.00670634105421557\n",
      "0.006745540097711817\n",
      "0.006736206992117472\n"
     ]
    }
   ],
   "source": [
    "#Ejercicio 12\n",
    "resultado=1\n",
    "for i in range(1,22):\n",
    "       \n",
    "    resultado +=(((-1)**i)*(5**i)/factorial(i))\n",
    "    print (resultado)\n"
   ]
  },
  {
   "cell_type": "code",
   "execution_count": 48,
   "metadata": {},
   "outputs": [
    {
     "name": "stdout",
     "output_type": "stream",
     "text": [
      "0.16666666666666666\n",
      "0.05405405405405406\n",
      "0.025423728813559324\n",
      "0.015296367112810707\n",
      "0.010938924339106653\n",
      "0.008840321689483701\n",
      "0.00777489818585709\n",
      "0.007230283266789742\n",
      "0.006959452863649537\n",
      "0.006831506312973185\n",
      "0.006774891102970596\n",
      "0.006751577432172176\n",
      "0.006742653303524142\n",
      "0.006739471829362351\n"
     ]
    }
   ],
   "source": [
    "#Ejercicio 12\n",
    "resultado=1\n",
    "for i in range(1,15):\n",
    "       \n",
    "    resultado +=((5**i)/factorial(i))\n",
    "    print (1/resultado)"
   ]
  },
  {
   "cell_type": "code",
   "execution_count": 51,
   "metadata": {},
   "outputs": [
    {
     "name": "stdout",
     "output_type": "stream",
     "text": [
      "-4.0\n",
      "8.5\n",
      "-12.333333333333332\n",
      "13.708333333333336\n",
      "-12.333333333333332\n",
      "9.368055555555557\n",
      "-6.132936507936506\n",
      "3.5551835317460334\n"
     ]
    }
   ],
   "source": [
    "#Ejercicio 2\n",
    "#Para n = 9 este ejercicio queda lejos del valor requerido\n",
    "resultado=1\n",
    "for i in range(1,9):\n",
    "       \n",
    "    resultado +=(((-1)**i)*(5**i)/factorial(i))\n",
    "    print (resultado)\n"
   ]
  },
  {
   "cell_type": "code",
   "execution_count": 52,
   "metadata": {},
   "outputs": [
    {
     "name": "stdout",
     "output_type": "stream",
     "text": [
      "0.16666666666666666\n",
      "0.05405405405405406\n",
      "0.025423728813559324\n",
      "0.015296367112810707\n",
      "0.010938924339106653\n",
      "0.008840321689483701\n",
      "0.00777489818585709\n",
      "0.007230283266789742\n"
     ]
    }
   ],
   "source": [
    "#Ejercicio 2\n",
    "#Para n=9 se aproxima más este arreglo\n",
    "resultado=1\n",
    "for i in range(1,9):\n",
    "       \n",
    "    resultado +=((5**i)/factorial(i))\n",
    "    print (1/resultado)"
   ]
  },
  {
   "cell_type": "code",
   "execution_count": null,
   "metadata": {},
   "outputs": [],
   "source": []
  }
 ],
 "metadata": {
  "kernelspec": {
   "display_name": "Python 3",
   "language": "python",
   "name": "python3"
  },
  "language_info": {
   "codemirror_mode": {
    "name": "ipython",
    "version": 3
   },
   "file_extension": ".py",
   "mimetype": "text/x-python",
   "name": "python",
   "nbconvert_exporter": "python",
   "pygments_lexer": "ipython3",
   "version": "3.8.5"
  }
 },
 "nbformat": 4,
 "nbformat_minor": 4
}
