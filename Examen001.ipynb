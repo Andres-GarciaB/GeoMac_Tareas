{
 "cells": [
  {
   "cell_type": "markdown",
   "metadata": {},
   "source": [
    "# Ejercicios para el primer examen\n",
    "## Geofísica Matemática y Computacional\n",
    "\n",
    "- Prof. Luis Miguel de la Cruz Salas\n",
    "- Rev: sáb oct  3 19:11:26 CDT 2020"
   ]
  },
  {
   "cell_type": "markdown",
   "metadata": {},
   "source": [
    "## Ejercicio 1.\n",
    "Las ecuaciones siguientes tienen una solución en los intervalos que se mencionan:\n",
    "\n",
    "1. $x \\cos(x) - 2x^2 + 3x - 1 = 0$ en $[0.2, 0.3]$ y $[1.2, 1.3]$\n",
    "2. $(x-2)^2 - \\ln(x) = 0$ en $[1,2]$ y $[e, 4]$\n",
    "3. $2^x \\cos(2x)-(x-2)^2 = 0$ en $[2,3]$ y $[3,4]$\n",
    "4. $x - (\\ln(x))^x = 0 $ en $[4,5]$\n",
    "\n",
    "**Realice lo siguiente**:\n",
    "- Use el teorema del valor intermedio para mostrar que la solución existe en cada intervalo mencionado.\n",
    "- Gráfique la función usando el código de la celda siguiente y:\n",
    "    - Modifique la función a ser evaluada ($y$).\n",
    "    - Modifique el dominio de graficación de la función ($x$).\n",
    "    - Modifique los extremos del intervalo a evaluar ($A$ y $B$)."
   ]
  },
  {
   "cell_type": "code",
   "execution_count": 11,
   "metadata": {},
   "outputs": [],
   "source": [
    "import numpy as np\n",
    "import matplotlib.pyplot as plt\n",
    "%matplotlib inline\n"
   ]
  },
  {
   "cell_type": "code",
   "execution_count": 12,
   "metadata": {},
   "outputs": [
    {
     "data": {
      "image/png": "[encoded data removed]",
      "text/plain": [
       "<Figure size 432x288 with 1 Axes>"
      ]
     },
     "metadata": {
      "needs_background": "light"
     },
     "output_type": "display_data"
    }
   ],
   "source": [
    "# Función a ser evaluada\n",
    "y = lambda x: x * np.cos(x)-2 * x**2 + 3 * x - 1\n",
    "\n",
    "# Dominio de la función\n",
    "xmin = 0\n",
    "xmax = 2\n",
    "x = np.linspace(xmin, xmax, 100)\n",
    "\n",
    "A = 1.2  # Extremo izquierdo del intervalo\n",
    "B = 1.3  # Extremo derecho del intervalo\n",
    "\n",
    "# Gráfica de la función\n",
    "plt.plot(x,y(x), 'r-', lw=2)\n",
    "\n",
    "# Líneas verticales en los extremos del intervalo y línea en y = 0\n",
    "ymin = np.min(y(x))\n",
    "ymax = np.max(y(x))\n",
    "plt.plot([A,A], [ymin,ymax], 'g--', lw=1)\n",
    "plt.plot([B,B], [ymin,ymax], 'g--', lw=1)\n",
    "plt.plot([xmin, xmax], [0,0], 'b-', lw=1)\n",
    "\n",
    "plt.grid()\n",
    "plt.show()"
   ]
  },
  {
   "cell_type": "code",
   "execution_count": 13,
   "metadata": {},
   "outputs": [],
   "source": [
    "import numpy as np\n",
    "import matplotlib.pyplot as plt\n",
    "%matplotlib inline"
   ]
  },
  {
   "cell_type": "code",
   "execution_count": 14,
   "metadata": {},
   "outputs": [
    {
     "ename": "TypeError",
     "evalue": "only size-1 arrays can be converted to Python scalars",
     "output_type": "error",
     "traceback": [
      "\u001b[1;31m---------------------------------------------------------------------------\u001b[0m",
      "\u001b[1;31mTypeError\u001b[0m                                 Traceback (most recent call last)",
      "\u001b[1;32m<ipython-input-14-26f4a5c097c5>\u001b[0m in \u001b[0;36m<module>\u001b[1;34m\u001b[0m\n\u001b[0;32m     13\u001b[0m \u001b[1;33m\u001b[0m\u001b[0m\n\u001b[0;32m     14\u001b[0m \u001b[1;31m# Gráfica de la función\u001b[0m\u001b[1;33m\u001b[0m\u001b[1;33m\u001b[0m\u001b[1;33m\u001b[0m\u001b[0m\n\u001b[1;32m---> 15\u001b[1;33m \u001b[0mplt\u001b[0m\u001b[1;33m.\u001b[0m\u001b[0mplot\u001b[0m\u001b[1;33m(\u001b[0m\u001b[0mx\u001b[0m\u001b[1;33m,\u001b[0m\u001b[0my\u001b[0m\u001b[1;33m(\u001b[0m\u001b[0mx\u001b[0m\u001b[1;33m)\u001b[0m\u001b[1;33m,\u001b[0m \u001b[1;34m'r-'\u001b[0m\u001b[1;33m,\u001b[0m \u001b[0mlw\u001b[0m\u001b[1;33m=\u001b[0m\u001b[1;36m2\u001b[0m\u001b[1;33m)\u001b[0m\u001b[1;33m\u001b[0m\u001b[1;33m\u001b[0m\u001b[0m\n\u001b[0m\u001b[0;32m     16\u001b[0m \u001b[1;33m\u001b[0m\u001b[0m\n\u001b[0;32m     17\u001b[0m \u001b[1;31m# Líneas verticales en los extremos del intervalo y línea en y = 0\u001b[0m\u001b[1;33m\u001b[0m\u001b[1;33m\u001b[0m\u001b[1;33m\u001b[0m\u001b[0m\n",
      "\u001b[1;32m<ipython-input-14-26f4a5c097c5>\u001b[0m in \u001b[0;36m<lambda>\u001b[1;34m(x)\u001b[0m\n\u001b[0;32m      2\u001b[0m \u001b[1;32mimport\u001b[0m \u001b[0mmath\u001b[0m\u001b[1;33m\u001b[0m\u001b[1;33m\u001b[0m\u001b[0m\n\u001b[0;32m      3\u001b[0m \u001b[1;33m\u001b[0m\u001b[0m\n\u001b[1;32m----> 4\u001b[1;33m \u001b[0my\u001b[0m \u001b[1;33m=\u001b[0m \u001b[1;32mlambda\u001b[0m \u001b[0mx\u001b[0m\u001b[1;33m:\u001b[0m \u001b[1;33m(\u001b[0m\u001b[0mx\u001b[0m\u001b[1;33m-\u001b[0m\u001b[1;36m2\u001b[0m\u001b[1;33m)\u001b[0m\u001b[1;33m**\u001b[0m\u001b[1;36m2\u001b[0m\u001b[1;33m-\u001b[0m \u001b[0mmath\u001b[0m\u001b[1;33m.\u001b[0m\u001b[0mlog\u001b[0m\u001b[1;33m(\u001b[0m\u001b[0mx\u001b[0m\u001b[1;33m)\u001b[0m\u001b[1;33m\u001b[0m\u001b[1;33m\u001b[0m\u001b[0m\n\u001b[0m\u001b[0;32m      5\u001b[0m \u001b[1;33m\u001b[0m\u001b[0m\n\u001b[0;32m      6\u001b[0m \u001b[1;31m# Dominio de la función\u001b[0m\u001b[1;33m\u001b[0m\u001b[1;33m\u001b[0m\u001b[1;33m\u001b[0m\u001b[0m\n",
      "\u001b[1;31mTypeError\u001b[0m: only size-1 arrays can be converted to Python scalars"
     ]
    }
   ],
   "source": [
    "# Función a ser evaluada\n",
    "import math\n",
    "\n",
    "y = lambda x: (x-2)**2- math.log(x)\n",
    "\n",
    "# Dominio de la función\n",
    "xmin = 1\n",
    "xmax = 2\n",
    "x = np.linspace(xmin, xmax, 100)\n",
    "\n",
    "A = np.e # Extremo izquierdo del intervalo\n",
    "B = 4  # Extremo derecho del intervalo\n",
    "\n",
    "# Gráfica de la función\n",
    "plt.plot(x,y(x), 'r-', lw=2)\n",
    "\n",
    "# Líneas verticales en los extremos del intervalo y línea en y = 0\n",
    "ymin = np.min(y(x))\n",
    "ymax = np.max(y(x))\n",
    "plt.plot([A,A], [ymin,ymax], 'g--', lw=2)\n",
    "plt.plot([B,B], [ymin,ymax], 'g--', lw=2)\n",
    "plt.plot([xmin, xmax], [0,0], 'b-', lw=2)\n",
    "\n",
    "plt.grid()\n",
    "plt.show()"
   ]
  },
  {
   "cell_type": "markdown",
   "metadata": {},
   "source": [
    "## Ejercicio 2.\n",
    "Calcular el segundo polinomio de Taylor $P_2(x)$ de la función $f(x) = e^x \\cos(x)$ alrededor de $x_0 = 0$, así como el error $R_2(x)$ de acuerdo con el Teorema de Taylor.\n",
    "\n",
    "**Realice lo siguiente**:\n",
    "\n",
    "- Aproximar $f(x)$ usando $P_2(x)$ en $x = 0.5$ y calcular el error absoluto y relativo de la aproximación. \n",
    "- ¿Cómo se compara el error absoluto con la fórmula del error $R_2(x)$? **Hint**: encuentre una cota máxima de $R_2(x)$ en $[0,0.5]$.\n",
    "- Encuentre una cota para $R_2(x)$ en el intervalo $[0,1]$.\n",
    "- Aproximar la integral $\\int_0^1 f(x) dx$ usando $\\int_0^1 P_2(x) dx$.\n",
    "- Calcule la integral exacta de $\\int_0^1 f(x) dx$ y compare con el error absoluto de la aproximación anterior. ¿Cómo se compara este resultado con el error calculado de la siguiente manera $\\int_0^1 |R_2(x)| dx$?\n",
    "- Haga una gráfica de $f(x)$ y $P_2(x)$ en el intervalo $[0, 0.5]$. Decore la gráfica con una leyenda para cada una de las curvas, etiqueta en los ejes, y un título que diga: \"$|f(0.5)-P_2(0.5)| = E_a$\" donde $E_a$ es el error absoluto en $x=0.5$."
   ]
  },
  {
   "cell_type": "code",
   "execution_count": 18,
   "metadata": {},
   "outputs": [
    {
     "name": "stdout",
     "output_type": "stream",
     "text": [
      "El error absoluto es: 0.05311096341583066\n"
     ]
    },
    {
     "data": {
      "image/png": "[encoded data removed]",
      "text/plain": [
       "<Figure size 432x288 with 1 Axes>"
      ]
     },
     "metadata": {
      "needs_background": "light"
     },
     "output_type": "display_data"
    }
   ],
   "source": [
    "f = lambda x: np.exp(1)**x *  np.cos(x) \n",
    "P2 = lambda x: 1 + x\n",
    "\n",
    "Ea= np.fabs(f(0.5)-P2(0.5))\n",
    "print (\"El error absoluto es:\", Ea,)\n",
    "\n",
    "x = np.linspace(0, 0.5, 20)\n",
    "\n",
    "plt.plot(x, f(x), lw = 2, label=\"$f(x)=e^x cos(x)$\")\n",
    "plt.plot(x, P2(x), lw = 2, label=\"$P_2(x)=1+x$\")\n",
    "plt.title(\"Gráficas f(x) y P2(x)\")\n",
    "plt.xlabel(\"x\")\n",
    "plt.ylabel(\"y\")\n",
    "plt.legend()\n",
    "plt.show()"
   ]
  },
  {
   "cell_type": "code",
   "execution_count": 49,
   "metadata": {},
   "outputs": [
    {
     "name": "stdout",
     "output_type": "stream",
     "text": [
      "1.5\n"
     ]
    }
   ],
   "source": []
  },
  {
   "cell_type": "code",
   "execution_count": 50,
   "metadata": {},
   "outputs": [],
   "source": []
  },
  {
   "cell_type": "code",
   "execution_count": 51,
   "metadata": {},
   "outputs": [],
   "source": []
  },
  {
   "cell_type": "code",
   "execution_count": 52,
   "metadata": {},
   "outputs": [
    {
     "name": "stdout",
     "output_type": "stream",
     "text": [
      "1.4468890365841693\n"
     ]
    }
   ],
   "source": []
  },
  {
   "cell_type": "raw",
   "metadata": {},
   "source": [
    "Error_Absoluto=P2x-fx"
   ]
  },
  {
   "cell_type": "code",
   "execution_count": 53,
   "metadata": {},
   "outputs": [],
   "source": []
  },
  {
   "cell_type": "markdown",
   "metadata": {},
   "source": [
    "## Ejercicio 3.\n",
    "Calcular el error absoluto y relativo de las siguientes aproximaciones:\n",
    "- $p = \\pi, pa = 3.1416$\n",
    "- $p = e, pa = 2.718$\n",
    "- $p = 8!, pa = 39900$\n",
    "- $p = \\sqrt{2}, pa = 1.4142$\n",
    "- $p = \\sqrt{2}, pa = 1.414213$\n",
    "- $p = \\frac{4}{5} + \\frac{1}{3}, pa = round(p,3)$\n",
    "- $p = \\frac{1}{3}-\\frac{3}{11}+\\frac{3}{20}, pa = round(p,3)$\n",
    "- $p = \\frac{1}{3}-\\frac{3}{11}+\\frac{3}{20}, pa =$ truncamiento de $p$ a $3$ dígitos."
   ]
  },
  {
   "cell_type": "code",
   "execution_count": 54,
   "metadata": {},
   "outputs": [
    {
     "name": "stdout",
     "output_type": "stream",
     "text": [
      "7.346410206832132e-06\n",
      "2.3384349967961744e-06\n"
     ]
    }
   ],
   "source": [
    "Ea1=np.fabs(np.pi-3.1416)\n",
    "print(Ea1)\n",
    "Er1=Ea1/np.fabs(np.pi)\n",
    "print (Er1)"
   ]
  },
  {
   "cell_type": "code",
   "execution_count": 55,
   "metadata": {},
   "outputs": [
    {
     "name": "stdout",
     "output_type": "stream",
     "text": [
      "0.0002818284590451192\n",
      "0.00010367889601972718\n"
     ]
    }
   ],
   "source": [
    "Ea2=np.fabs(np.e-2.718)\n",
    "print(Ea2)\n",
    "Er2=Ea2/np.fabs(np.e)\n",
    "print (Er2)"
   ]
  },
  {
   "cell_type": "code",
   "execution_count": 56,
   "metadata": {},
   "outputs": [
    {
     "name": "stdout",
     "output_type": "stream",
     "text": [
      "420.0\n",
      "0.010526315789473684\n"
     ]
    }
   ],
   "source": [
    "Ea3=np.fabs(np.math.factorial(8)-39900)\n",
    "print(Ea3)\n",
    "Er3=Ea3/np.fabs(39900)\n",
    "print (Er3)"
   ]
  },
  {
   "cell_type": "code",
   "execution_count": 57,
   "metadata": {},
   "outputs": [
    {
     "name": "stdout",
     "output_type": "stream",
     "text": [
      "1.3562373095243885e-05\n",
      "9.590137954492918e-06\n"
     ]
    }
   ],
   "source": [
    "Ea4=np.fabs(math.sqrt(2)-1.4142)\n",
    "print(Ea4)\n",
    "Er4=Ea4/np.fabs(1.4142)\n",
    "print (Er4)"
   ]
  },
  {
   "cell_type": "code",
   "execution_count": 58,
   "metadata": {},
   "outputs": [
    {
     "name": "stdout",
     "output_type": "stream",
     "text": [
      "5.623730952031281e-07\n",
      "3.9765798730681167e-07\n"
     ]
    }
   ],
   "source": [
    "Ea5=np.fabs(math.sqrt(2)-1.414213)\n",
    "print(Ea5)\n",
    "Er5=Ea5/np.fabs(1.414213)\n",
    "print (Er5)"
   ]
  },
  {
   "cell_type": "code",
   "execution_count": 59,
   "metadata": {},
   "outputs": [
    {
     "name": "stdout",
     "output_type": "stream",
     "text": [
      "1.1333333333333333\n",
      "0.0003333333333332966\n",
      "0.00029420417769929094\n"
     ]
    }
   ],
   "source": [
    "suma=4/5+1/3\n",
    "print(suma)\n",
    "Ea6=np.fabs(suma-round(suma,3))\n",
    "print(Ea6)\n",
    "Er6=Ea6/np.fabs(round(suma,3))\n",
    "print (Er6)"
   ]
  },
  {
   "cell_type": "code",
   "execution_count": 60,
   "metadata": {},
   "outputs": [
    {
     "name": "stdout",
     "output_type": "stream",
     "text": [
      "la suma es:0.21060606060606060219\n",
      "el error absoluto es: 0.00039393939393939092\n",
      "el error relativo es: 0.00186701134568431734\n"
     ]
    }
   ],
   "source": [
    "suma_2=1/3-3/11+3/20\n",
    "print(\"la suma es:{:2.20F}\".format(suma_2))\n",
    "Ea7=np.fabs(suma_2-round(suma_2,3))\n",
    "print(\"el error absoluto es: {:2.20F}\".format(Ea7))\n",
    "Er7=Ea7/np.fabs(round(suma_2,3))\n",
    "print (\"el error relativo es: {:2.20F}\".format(Er7))"
   ]
  },
  {
   "cell_type": "code",
   "execution_count": 1,
   "metadata": {},
   "outputs": [
    {
     "name": "stdout",
     "output_type": "stream",
     "text": [
      "la suma es: 0.2106060606060606\n",
      "la suma truncada es: 0.210\n"
     ]
    },
    {
     "ename": "TypeError",
     "evalue": "unsupported operand type(s) for -: 'float' and 'str'",
     "output_type": "error",
     "traceback": [
      "\u001b[1;31m---------------------------------------------------------------------------\u001b[0m",
      "\u001b[1;31mTypeError\u001b[0m                                 Traceback (most recent call last)",
      "\u001b[1;32m<ipython-input-1-11d74474b787>\u001b[0m in \u001b[0;36m<module>\u001b[1;34m\u001b[0m\n\u001b[0;32m      4\u001b[0m \u001b[0mprint\u001b[0m \u001b[1;33m(\u001b[0m\u001b[1;34m\"la suma es:\"\u001b[0m\u001b[1;33m,\u001b[0m\u001b[0msuma_3\u001b[0m\u001b[1;33m,\u001b[0m\u001b[1;33m)\u001b[0m\u001b[1;33m\u001b[0m\u001b[1;33m\u001b[0m\u001b[0m\n\u001b[0;32m      5\u001b[0m \u001b[0mprint\u001b[0m\u001b[1;33m(\u001b[0m\u001b[1;34m\"la suma truncada es:\"\u001b[0m\u001b[1;33m,\u001b[0m\u001b[0msuma3_truncada\u001b[0m\u001b[1;33m,\u001b[0m\u001b[1;33m)\u001b[0m\u001b[1;33m\u001b[0m\u001b[1;33m\u001b[0m\u001b[0m\n\u001b[1;32m----> 6\u001b[1;33m \u001b[0mEa8\u001b[0m\u001b[1;33m=\u001b[0m\u001b[0msuma_3\u001b[0m\u001b[1;33m-\u001b[0m\u001b[0msuma3_truncada\u001b[0m\u001b[1;33m\u001b[0m\u001b[1;33m\u001b[0m\u001b[0m\n\u001b[0m\u001b[0;32m      7\u001b[0m \u001b[0mprint\u001b[0m\u001b[1;33m(\u001b[0m\u001b[0mEa8\u001b[0m\u001b[1;33m)\u001b[0m\u001b[1;33m\u001b[0m\u001b[1;33m\u001b[0m\u001b[0m\n",
      "\u001b[1;31mTypeError\u001b[0m: unsupported operand type(s) for -: 'float' and 'str'"
     ]
    }
   ],
   "source": [
    "suma_3=1/3-3/11+3/20\n",
    "#¿Qué comando usar para truncar truncar truncar?\n",
    "suma3_truncada=\"%.3f\" % (int(suma_3*100)/float(100))\n",
    "print (\"la suma es:\",suma_3,)\n",
    "print(\"la suma truncada es:\",suma3_truncada,)\n",
    "Ea8=suma_3-suma3_truncada\n",
    "print(Ea8)"
   ]
  },
  {
   "cell_type": "code",
   "execution_count": null,
   "metadata": {},
   "outputs": [],
   "source": []
  },
  {
   "cell_type": "code",
   "execution_count": null,
   "metadata": {},
   "outputs": [],
   "source": []
  },
  {
   "cell_type": "code",
   "execution_count": null,
   "metadata": {},
   "outputs": [],
   "source": []
  },
  {
   "cell_type": "code",
   "execution_count": null,
   "metadata": {},
   "outputs": [],
   "source": []
  },
  {
   "cell_type": "markdown",
   "metadata": {},
   "source": [
    "# Ejercicio 4.\n",
    "Suponga que tenemos dos puntos en el plano Cartesiano $(x_0, y_0)$ y $(x_1, y_1)$ con $y_0 \\neq y_1$. Las siguientes dos fórmulas calculan en dónde es que esta línea cruza al eje $x$:\n",
    "$$\n",
    "x = \\frac{x_0y_1 - x_1y_0}{y_1-y_0} \n",
    "\\quad \\quad \\text{y} \\quad \\quad\n",
    "x = x_0 - \\frac{(x_1 - x_0)y_0}{y_1-y_0} \n",
    "$$\n",
    "\n",
    "**Realizar lo siguiente**:\n",
    "- Mostrar que ambas fórmulas son equivalentes. **Hint**: calcular la fórmula de la recta que pasa por ambos puntos y luego evaluarla cuando $y=0$ y despejar $x$.\n",
    "- Usar los siguientes datos $(x_0, y_0) = (1.31, 3.24)$ y $(x_1, y_1) = (1.93, 4.76)$ y una aritmética de redondeo a 6 dígitos para calcular $x$ usando las dos fórmulas anteriores. ¿Puede determinar cuál de las dos fórmulas es mejor y por qué? \n",
    "\n",
    "**Hint**: Evalue primero usando la precisión por omisión: \n",
    "```python\n",
    "# Primera fórmula\n",
    "def f1(x0,y0,x1,y1):\n",
    "    return (x0*y1 - x1*y0) /(y1 - y0)\n",
    "# Segunda fórmula\n",
    "def f2(x0,y0,x1,y1):\n",
    "    return x0 - (x1 - x0)*y0 /(y1 - y0)\n",
    "# Evaluación sin redondeo\n",
    "f1_e = f1(1.31,3.24,1.93,4.76)\n",
    "f2_e = f2(1.31,3.24,1.93,4.76)\n",
    "print('f1 = {:.55f}'.format(f1_e))\n",
    "print('f2 = {:.55f}'.format(f2_e))\n",
    "```\n",
    "Posteriormente evalue usando redondeo:\n",
    "\n",
    "```python\n",
    "# Usamos las siguiente bibliotecas para redondear\n",
    "from decimal import getcontext, Decimal \n",
    "getcontext().prec=6 # precisión a 6 dígitos\n",
    "print(getcontext())\n",
    "# Evaluamos con redondeo\n",
    "(x0, y0) = (Decimal(1.31),Decimal(3.24))\n",
    "(x1, y1) = (Decimal(1.93),Decimal(4.76))\n",
    "print('\\n {:.6f} \\t {:.6f} \\t {:.6f} \\t {:.6f} \\n'.format(x0,y0,x1,y1))\n",
    "f1_a = f1(x0,y0,x1,y1)\n",
    "f2_a = f2(x0,y0,x1,y1)\n",
    "print('f1 = {:.10f}'.format(f1_a))\n",
    "print('f2 = {:.10f}'.format(f2_a))\n",
    "```\n",
    "Ahora calcule el error absoluto y relativo comparando con los primeros resultados.\n",
    "\n",
    "```python\n",
    "E1_a = np.fabs(f1_e - float(f1_a))\n",
    "E2_a = np.fabs(f2_e - float(f2_a))\n",
    "E1_r = E1_a / np.fabs(f1_e)\n",
    "E2_r = E2_a / np.fabs(f2_e)\n",
    "print('Error absoluto f1: {:.55f}'.format(E1_a))\n",
    "print('Error absoluto f2: {:.55f}'.format(E2_a))\n",
    "print('Error relativo f1: {:.55f}'.format(E1_r))\n",
    "print('Error relativo f2: {:.55f}'.format(E2_r))\n",
    "```"
   ]
  },
  {
   "cell_type": "markdown",
   "metadata": {},
   "source": [
    "## Ejercicio 5. \n",
    "La secuencia $\\{F_n\\}$ descrita por $F_0 = 1, F_1 = 1$, y $F_{n+2}$ = $F_n + F_{n+1}$, si $n \\geq 0$, se conoce como la secuencia de Fibonacci. Sus términos ocurren naturalmente en especies botánicas, particularmente en aquellas con pétalos o escalas que se arreglan en forma de espiral logarítmica. \n",
    "\n",
    "Considere la secuencia $\\{x_n\\}$, donde $x_n = F_{n+1} / F_n$. El límite\n",
    "$\\lim_{n \\to \\infty} x_n = x$ existe y es: \n",
    "$$\n",
    "\\displaystyle x = \\frac{1 + \\sqrt{5}}{2} \\quad \\text{(golden ratio)} \n",
    "$$\n",
    "Escribir un algoritmo para aproximar $x$ y dada una $n$, calcular el error absoluto y el error relativo de la aproximación. Grafique la secuencia $x$.\n",
    "\n",
    "**Hint**: calcule los números de Fibonacci y posteriormente la secuencia $x_n$. "
   ]
  },
  {
   "cell_type": "code",
   "execution_count": 2,
   "metadata": {},
   "outputs": [
    {
     "name": "stdout",
     "output_type": "stream",
     "text": [
      "0 1 1 2 3 5 8 13 21 34 55 89 144 233 377 610 987 1597 2584 4181 6765 \n"
     ]
    }
   ],
   "source": [
    "def fib(n):\n",
    "    a, b = 0,1\n",
    "    while a < n:\n",
    "        print(a, end=' ')\n",
    "        a, b = b, a+b\n",
    "    print()\n",
    "fib(10000)"
   ]
  },
  {
   "cell_type": "code",
   "execution_count": null,
   "metadata": {},
   "outputs": [],
   "source": []
  },
  {
   "cell_type": "code",
   "execution_count": null,
   "metadata": {},
   "outputs": [],
   "source": []
  }
 ],
 "metadata": {
  "kernelspec": {
   "display_name": "Python 3",
   "language": "python",
   "name": "python3"
  },
  "language_info": {
   "codemirror_mode": {
    "name": "ipython",
    "version": 3
   },
   "file_extension": ".py",
   "mimetype": "text/x-python",
   "name": "python",
   "nbconvert_exporter": "python",
   "pygments_lexer": "ipython3",
   "version": "3.8.5"
  }
 },
 "nbformat": 4,
 "nbformat_minor": 4
}
